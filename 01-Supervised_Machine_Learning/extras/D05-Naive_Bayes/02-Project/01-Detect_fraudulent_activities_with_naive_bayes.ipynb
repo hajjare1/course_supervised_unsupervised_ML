{
 "cells": [
  {
   "cell_type": "markdown",
   "metadata": {},
   "source": [
    "# Fraudulent Activities - PART I\n",
    "\n",
    "### OBJECTIF\n",
    "\n",
    "Les sites de E-commerce font transiter beaucoup d'argent. Cela peut engendrer des risques non négligeables d'activités frauduleuses, comme l'utilisation de carte de crédit volées, du blanchiment d'argent, etc.\n",
    "\n",
    "Fort heureusement, le Machine Learning peut nous aider à identifier ces activités frauduleuses. Tous les sites web où vous devez entrer vos informations de paiements ont une équipe qui s'occupe de gérer les risques de fraude via le ML.\n",
    "\n",
    "Le but de ce challenge est de construire un modèle qui vous permet de prédire une probabilité de transaction frauduleuse.\n",
    "\n",
    "### DESCRIPTION\n",
    "\n",
    "L'entreprise X fait du E-commerce et vend des vêtements faits-main. Votre but est de construire un modèle qui permette de prédire si l'achat d'un vêtement doit être considéré comme une transaction frauduleuse ou non.\n",
    "\n",
    "Voici précisément ce que vous devez faire :\n",
    "\n",
    "1. Pour chacun des utilisateurs, déterminez le pays d'origine depuis son adresse IP\n",
    "\n",
    "2. Construisez un modèle qui permette de prédire si l'activité est frauduleuse ou non. Expliquez aussi vos choix / hypothèses en termes d'optimisation de faux-positifs et faux-négatifs\n",
    "\n",
    "3. Votre patron aimerait comprendre votre modèle car il est inquiet d'utiliser un modèle _black box_. Comment l'expliqueriez vous d'un point utilisateur, et non pas mathématique. Par exemple, quels sont les utilisateurs qui peuvent être classés comme _risqués_ ?\n",
    "\n",
    "4. Supposons que vous pouvez utiliser votre modèle en live pour qu'il fasse sa prédiction en temps réel. D'un point de vue Produit, comment l'utiliseriez-vous ? Comment pourriez-vous penser l'expérience utilisateur face à ce produit ?\n",
    "\n",
    "\n",
    "### DATA\n",
    "\n",
    "Vous pouvez utiliser les deux tables suivantes :\n",
    "\n",
    "```python\n",
    "Fraud_Data\n",
    "```\n",
    "\n",
    "&\n",
    "\n",
    "```python\n",
    "IpAddress_to_Country\n",
    "```\n"
   ]
  },
  {
   "cell_type": "code",
   "execution_count": null,
   "metadata": {},
   "outputs": [],
   "source": []
  }
 ],
 "metadata": {
  "language_info": {
   "codemirror_mode": {
    "name": "ipython",
    "version": 3
   },
   "file_extension": ".py",
   "mimetype": "text/x-python",
   "name": "python",
   "nbconvert_exporter": "python",
   "pygments_lexer": "ipython3",
   "version": 3
  },
  "orig_nbformat": 2
 },
 "nbformat": 4,
 "nbformat_minor": 2
}