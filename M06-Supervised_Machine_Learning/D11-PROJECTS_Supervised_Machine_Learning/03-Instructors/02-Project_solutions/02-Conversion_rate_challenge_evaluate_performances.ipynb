{
 "cells": [
  {
   "cell_type": "markdown",
   "metadata": {},
   "source": [
    "# Leaderboard\n",
    "This notebook reads all the test prediction files and compares the predictions to the labels stored in \"conversion_data_test_labels....csv\". In the end, a leaderboard is generated with f1-scores, precisions and recalls."
   ]
  },
  {
   "cell_type": "code",
   "execution_count": 1,
   "metadata": {
    "colab": {},
    "colab_type": "code",
    "id": "23HH_5e7jXDM"
   },
   "outputs": [],
   "source": [
    "import glob\n",
    "import pandas as pd\n",
    "from sklearn.metrics import f1_score, precision_score, recall_score"
   ]
  },
  {
   "cell_type": "code",
   "execution_count": 2,
   "metadata": {
    "colab": {
     "base_uri": "https://localhost:8080/",
     "height": 101
    },
    "colab_type": "code",
    "id": "BPosLrGFnFTr",
    "outputId": "e49f25eb-202b-41e6-dbfa-0498d9eb9b45"
   },
   "outputs": [
    {
     "name": "stdout",
     "output_type": "stream",
     "text": [
      "\n",
      "Processing file :  conversion_data_test_predictions_EXAMPLE.csv\n"
     ]
    },
    {
     "data": {
      "text/html": [
       "<div>\n",
       "<style scoped>\n",
       "    .dataframe tbody tr th:only-of-type {\n",
       "        vertical-align: middle;\n",
       "    }\n",
       "\n",
       "    .dataframe tbody tr th {\n",
       "        vertical-align: top;\n",
       "    }\n",
       "\n",
       "    .dataframe thead th {\n",
       "        text-align: right;\n",
       "    }\n",
       "</style>\n",
       "<table border=\"1\" class=\"dataframe\">\n",
       "  <thead>\n",
       "    <tr style=\"text-align: right;\">\n",
       "      <th></th>\n",
       "      <th>modele</th>\n",
       "      <th>f1</th>\n",
       "      <th>precision</th>\n",
       "      <th>recall</th>\n",
       "      <th>rank</th>\n",
       "    </tr>\n",
       "  </thead>\n",
       "  <tbody>\n",
       "    <tr>\n",
       "      <th>0</th>\n",
       "      <td>EXAMPLE</td>\n",
       "      <td>0.694224</td>\n",
       "      <td>0.821716</td>\n",
       "      <td>0.60098</td>\n",
       "      <td>1</td>\n",
       "    </tr>\n",
       "  </tbody>\n",
       "</table>\n",
       "</div>"
      ],
      "text/plain": [
       "    modele        f1  precision   recall  rank\n",
       "0  EXAMPLE  0.694224   0.821716  0.60098     1"
      ]
     },
     "metadata": {},
     "output_type": "display_data"
    }
   ],
   "source": [
    "Y_test = pd.read_csv('conversion_data_test_labels.csv')\n",
    "\n",
    "files = glob.glob('conversion_data_test_predictions_*.csv')\n",
    "#print(files)\n",
    "print()\n",
    "cols =['modele', 'f1', 'precision', 'recall']\n",
    "leaderboard = pd.DataFrame(columns=cols)\n",
    "\n",
    "idx=0\n",
    "for f in files:\n",
    "    print('Processing file : ', f)\n",
    "    Y_test_pred = pd.read_csv(f)\n",
    "    data = {\n",
    "      'modele': f.split('_')[-1].split('.')[0],\n",
    "      'f1': f1_score(Y_test, Y_test_pred),\n",
    "      'precision': precision_score(Y_test, Y_test_pred),\n",
    "      'recall': recall_score(Y_test, Y_test_pred)\n",
    "    }\n",
    "\n",
    "    leaderboard = leaderboard.append(pd.DataFrame(columns=cols, data=data, index=[idx]))\n",
    "    idx = idx+1\n",
    "leaderboard = leaderboard.sort_values(by='f1', ascending=False)\n",
    "leaderboard = leaderboard.reset_index(drop=True)\n",
    "\n",
    "rank = [(i+1) for i in leaderboard.index]\n",
    "leaderboard.loc[:,'rank'] = rank\n",
    "\n",
    "display(leaderboard)"
   ]
  }
 ],
 "metadata": {
  "colab": {
   "name": "Projets_evaluate_performances.ipynb",
   "provenance": []
  },
  "kernelspec": {
   "display_name": "Python 3",
   "language": "python",
   "name": "python3"
  },
  "language_info": {
   "codemirror_mode": {
    "name": "ipython",
    "version": 3
   },
   "file_extension": ".py",
   "mimetype": "text/x-python",
   "name": "python",
   "nbconvert_exporter": "python",
   "pygments_lexer": "ipython3",
   "version": "3.8.6"
  }
 },
 "nbformat": 4,
 "nbformat_minor": 4
}